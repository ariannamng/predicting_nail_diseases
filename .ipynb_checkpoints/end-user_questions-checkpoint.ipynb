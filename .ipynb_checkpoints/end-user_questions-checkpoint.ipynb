{
 "cells": [
  {
   "cell_type": "markdown",
   "id": "1b45819e-2082-45d9-a3bc-2b98b77b0693",
   "metadata": {},
   "source": [
    "# Imports"
   ]
  },
  {
   "cell_type": "code",
   "execution_count": 1,
   "id": "38924df7-cf8b-437b-9ee4-8e2581102703",
   "metadata": {},
   "outputs": [
    {
     "name": "stdout",
     "output_type": "stream",
     "text": [
      "Requirement already satisfied: transformers in /Users/srhazali/.pyenv/versions/3.10.6/envs/lewagon/lib/python3.10/site-packages (4.34.0)\n",
      "Requirement already satisfied: torch in /Users/srhazali/.pyenv/versions/3.10.6/envs/lewagon/lib/python3.10/site-packages (2.1.0)\n",
      "Requirement already satisfied: pytesseract in /Users/srhazali/.pyenv/versions/3.10.6/envs/lewagon/lib/python3.10/site-packages (0.3.10)\n",
      "Requirement already satisfied: filelock in /Users/srhazali/.pyenv/versions/3.10.6/envs/lewagon/lib/python3.10/site-packages (from transformers) (3.12.4)\n",
      "Requirement already satisfied: huggingface-hub<1.0,>=0.16.4 in /Users/srhazali/.pyenv/versions/3.10.6/envs/lewagon/lib/python3.10/site-packages (from transformers) (0.16.4)\n",
      "Requirement already satisfied: numpy>=1.17 in /Users/srhazali/.pyenv/versions/3.10.6/envs/lewagon/lib/python3.10/site-packages (from transformers) (1.23.5)\n",
      "Requirement already satisfied: packaging>=20.0 in /Users/srhazali/.pyenv/versions/3.10.6/envs/lewagon/lib/python3.10/site-packages (from transformers) (21.3)\n",
      "Requirement already satisfied: pyyaml>=5.1 in /Users/srhazali/.pyenv/versions/3.10.6/envs/lewagon/lib/python3.10/site-packages (from transformers) (6.0.1)\n",
      "Requirement already satisfied: regex!=2019.12.17 in /Users/srhazali/.pyenv/versions/3.10.6/envs/lewagon/lib/python3.10/site-packages (from transformers) (2022.9.13)\n",
      "Requirement already satisfied: requests in /Users/srhazali/.pyenv/versions/3.10.6/envs/lewagon/lib/python3.10/site-packages (from transformers) (2.28.1)\n",
      "Requirement already satisfied: tokenizers<0.15,>=0.14 in /Users/srhazali/.pyenv/versions/3.10.6/envs/lewagon/lib/python3.10/site-packages (from transformers) (0.14.0)\n",
      "Requirement already satisfied: safetensors>=0.3.1 in /Users/srhazali/.pyenv/versions/3.10.6/envs/lewagon/lib/python3.10/site-packages (from transformers) (0.3.3)\n",
      "Requirement already satisfied: tqdm>=4.27 in /Users/srhazali/.pyenv/versions/3.10.6/envs/lewagon/lib/python3.10/site-packages (from transformers) (4.64.1)\n",
      "Requirement already satisfied: typing-extensions in /Users/srhazali/.pyenv/versions/3.10.6/envs/lewagon/lib/python3.10/site-packages (from torch) (4.12.0)\n",
      "Requirement already satisfied: sympy in /Users/srhazali/.pyenv/versions/3.10.6/envs/lewagon/lib/python3.10/site-packages (from torch) (1.12)\n",
      "Requirement already satisfied: networkx in /Users/srhazali/.pyenv/versions/3.10.6/envs/lewagon/lib/python3.10/site-packages (from torch) (2.8.7)\n",
      "Requirement already satisfied: jinja2 in /Users/srhazali/.pyenv/versions/3.10.6/envs/lewagon/lib/python3.10/site-packages (from torch) (3.1.2)\n",
      "Requirement already satisfied: fsspec in /Users/srhazali/.pyenv/versions/3.10.6/envs/lewagon/lib/python3.10/site-packages (from torch) (2022.10.0)\n",
      "Requirement already satisfied: Pillow>=8.0.0 in /Users/srhazali/.pyenv/versions/3.10.6/envs/lewagon/lib/python3.10/site-packages (from pytesseract) (9.1.1)\n",
      "Requirement already satisfied: pyparsing!=3.0.5,>=2.0.2 in /Users/srhazali/.pyenv/versions/3.10.6/envs/lewagon/lib/python3.10/site-packages (from packaging>=20.0->transformers) (3.0.9)\n",
      "Requirement already satisfied: MarkupSafe>=2.0 in /Users/srhazali/.pyenv/versions/3.10.6/envs/lewagon/lib/python3.10/site-packages (from jinja2->torch) (2.1.1)\n",
      "Requirement already satisfied: charset-normalizer<3,>=2 in /Users/srhazali/.pyenv/versions/3.10.6/envs/lewagon/lib/python3.10/site-packages (from requests->transformers) (2.1.1)\n",
      "Requirement already satisfied: idna<4,>=2.5 in /Users/srhazali/.pyenv/versions/3.10.6/envs/lewagon/lib/python3.10/site-packages (from requests->transformers) (3.4)\n",
      "Requirement already satisfied: urllib3<1.27,>=1.21.1 in /Users/srhazali/.pyenv/versions/3.10.6/envs/lewagon/lib/python3.10/site-packages (from requests->transformers) (1.26.12)\n",
      "Requirement already satisfied: certifi>=2017.4.17 in /Users/srhazali/.pyenv/versions/3.10.6/envs/lewagon/lib/python3.10/site-packages (from requests->transformers) (2022.9.24)\n",
      "Requirement already satisfied: mpmath>=0.19 in /Users/srhazali/.pyenv/versions/3.10.6/envs/lewagon/lib/python3.10/site-packages (from sympy->torch) (1.3.0)\n"
     ]
    }
   ],
   "source": [
    "# Install transformers library from HuggingFace\n",
    "!pip install transformers torch pytesseract"
   ]
  },
  {
   "cell_type": "code",
   "execution_count": 2,
   "id": "539af36c-9dd1-49cb-b352-054c8d400632",
   "metadata": {},
   "outputs": [
    {
     "name": "stdout",
     "output_type": "stream",
     "text": [
      "Requirement already satisfied: sentencepiece in /Users/srhazali/.pyenv/versions/3.10.6/envs/lewagon/lib/python3.10/site-packages (0.1.99)\n",
      "Requirement already satisfied: sacremoses in /Users/srhazali/.pyenv/versions/3.10.6/envs/lewagon/lib/python3.10/site-packages (0.0.53)\n",
      "Requirement already satisfied: regex in /Users/srhazali/.pyenv/versions/3.10.6/envs/lewagon/lib/python3.10/site-packages (from sacremoses) (2022.9.13)\n",
      "Requirement already satisfied: six in /Users/srhazali/.pyenv/versions/3.10.6/envs/lewagon/lib/python3.10/site-packages (from sacremoses) (1.16.0)\n",
      "Requirement already satisfied: click in /Users/srhazali/.pyenv/versions/3.10.6/envs/lewagon/lib/python3.10/site-packages (from sacremoses) (8.1.3)\n",
      "Requirement already satisfied: joblib in /Users/srhazali/.pyenv/versions/3.10.6/envs/lewagon/lib/python3.10/site-packages (from sacremoses) (1.4.2)\n",
      "Requirement already satisfied: tqdm in /Users/srhazali/.pyenv/versions/3.10.6/envs/lewagon/lib/python3.10/site-packages (from sacremoses) (4.64.1)\n"
     ]
    }
   ],
   "source": [
    "# Install extra tools used under the hood\n",
    "! pip install sentencepiece sacremoses"
   ]
  },
  {
   "cell_type": "code",
   "execution_count": null,
   "id": "46c46dfd-63b3-44c1-93d3-1d1deaeb30eb",
   "metadata": {},
   "outputs": [],
   "source": [
    "!pip freeze | grep tensor"
   ]
  },
  {
   "cell_type": "code",
   "execution_count": 3,
   "id": "3fbd363a-3c2a-4a86-ab27-4f792e9dca4f",
   "metadata": {},
   "outputs": [
    {
     "name": "stderr",
     "output_type": "stream",
     "text": [
      "2024-06-05 12:19:56.620717: I tensorflow/core/platform/cpu_feature_guard.cc:193] This TensorFlow binary is optimized with oneAPI Deep Neural Network Library (oneDNN) to use the following CPU instructions in performance-critical operations:  AVX2 FMA\n",
      "To enable them in other operations, rebuild TensorFlow with the appropriate compiler flags.\n"
     ]
    }
   ],
   "source": [
    "# Import pipeline\n",
    "from transformers import pipeline"
   ]
  },
  {
   "cell_type": "code",
   "execution_count": 4,
   "id": "f4b9dd38-b141-4590-9d67-84a7e291ab07",
   "metadata": {},
   "outputs": [],
   "source": [
    "# Optional - ignore warnings\n",
    "import warnings\n",
    "warnings.filterwarnings('ignore')"
   ]
  },
  {
   "cell_type": "markdown",
   "id": "376630b9-5f45-4928-8afd-a8aeb944776e",
   "metadata": {},
   "source": [
    "# Building the question-answering pipeline and resources"
   ]
  },
  {
   "cell_type": "code",
   "execution_count": 5,
   "id": "edc7eb0c-0145-476d-91cc-8225f3c658b8",
   "metadata": {},
   "outputs": [],
   "source": [
    "# Instantiate question-answering transformer\n",
    "questions_pipe = pipeline(\"question-answering\", model=\"deepset/roberta-base-squad2\")"
   ]
  },
  {
   "cell_type": "code",
   "execution_count": 20,
   "id": "1423899d-2eba-4257-aa9c-c94fae1ce4d1",
   "metadata": {},
   "outputs": [],
   "source": [
    "resources = {\"Healthy nails\" : \"\"\"Healthy fingernails are characterized by their smooth texture, absence of pits or grooves, uniform color, and consistent structure. \n",
    "The anatomy of the fingernail is composed of several distinct parts. The nail plate, the visible hard part of the nail, is primarily made of keratin, a resilient protein also found in hair and the outer layer of skin. Beneath the nail plate is the nail bed, a layer of skin rich in blood vessels that nourish the nail. The cuticle, a protective barrier of tissue, seals the space between the nail plate and the skin, preventing infection. The lunula, the crescent-shaped whitish area at the base of the nail, is part of the matrix where new nail cells are produced.\n",
    "Healthy fingernails typically do not exhibit abnormalities such as discoloration, spots, or irregularities. Common benign variations include vertical ridges, which may become more prominent with age, and small white spots, often resulting from minor trauma. However, significant changes in nail appearance can signal underlying health issues. \n",
    "The growth rate of fingernails averages about 3 millimeters per month, though this can vary with age, season, and individual health status. Factors such as nutrition, hormonal changes, and physical activity influence nail growth and health. Adequate intake of proteins, vitamins, and minerals, particularly biotin, vitamin E, and zinc, supports robust nail development.\n",
    "Regular cleaning and moisturizing can prevent infections and keep nails flexible, which is essential to maintain nail health. Trimming nails straight across and gently rounding the tips helps avoid ingrown nails. It's advisable to avoid biting nails or using them as tools, as these habits can cause damage. The use of protective gloves when engaging in activities that involve prolonged water exposure or harsh chemicals can prevent weakening and brittleness.\n",
    "Additionally, nail cosmetics and treatments should be used judiciously. While nail polish and other products can enhance the aesthetic appeal of nails, they should be applied and removed correctly to avoid damage. It's important to allow nails to breathe and recover between applications. Furthermore, the overuse of artificial nails and gel treatments can lead to thinning and weakening of the natural nail.\n",
    "\n",
    "\"\"\",\n",
    "\n",
    "\"Clubbing\" : \"\"\"Nail clubbing, also known as digital clubbing or Hippocratic nails, is a deformity of the fingers or toes characterized by changes in the shape and texture of the nails. This condition is often associated with a variety of systemic diseases, primarily affecting the heart and lungs. Nail clubbing is typically identified by the enlargement of the ends of the fingers or toes and the nails becoming abnormally curved and shiny. The nails may also exhibit increased sponginess of the nail bed and loss of the normal angle between the nail and the cuticle.\n",
    "The symptoms of nail clubbing are gradual and progress through several stages. Initially, there is a softening of the nail bed, making it feel spongy when pressed. This is followed by an increase in the normal 160-degree angle between the nail base and the cuticle, leading to a more pronounced curve of the nail. In advanced stages, the tips of the fingers or toes appear bulbous, and the nails develop a shiny, convex appearance. When nail clubbing occurs in conjunction with joint effusions, joint pains, and abnormal skin and bone growth, it is classified as hypertrophic osteoarthropathy, a condition that warrants further investigation for underlying diseases.\n",
    "The causes of nail clubbing are diverse and often point to serious underlying health conditions. Pulmonary diseases are among the most common causes, with lung cancer, chronic infections like tuberculosis, and conditions such as cystic fibrosis or bronchiectasis frequently linked to nail clubbing. Cardiovascular diseases, including congenital heart disease, infective endocarditis, and cyanotic heart conditions, can also result in clubbing. Additionally, gastrointestinal disorders such as inflammatory bowel disease, liver cirrhosis, and malabsorption syndromes may present with nail clubbing. Endocrine disorders like hyperthyroidism, acromegaly, and thyroid acropachy are other potential causes. In some cases, nail clubbing occurs without any identifiable underlying disease, a condition known as idiopathic clubbing.\n",
    "Accurate diagnosis and appropriate treatment of nail clubbing require thorough medical evaluation. This typically involves a detailed patient history, physical examination, and a series of diagnostic tests to identify any underlying systemic conditions. Treatment is primarily focused on addressing the root cause of the clubbing. For instance, if a pulmonary condition is diagnosed, targeted therapies such as antibiotics for infections or specific treatments for lung cancer may be initiated. Similarly, managing cardiovascular or gastrointestinal diseases can lead to the resolution or improvement of nail clubbing.\n",
    "Preventing nail clubbing involves managing the risk factors and underlying conditions associated with its development. Regular medical check-ups and prompt treatment of respiratory, cardiovascular, and gastrointestinal conditions are essential. Maintaining a healthy lifestyle, including a balanced diet, regular exercise, and avoiding smoking, can also reduce the risk of diseases that may lead to nail clubbing. Early detection and intervention are key to preventing the progression of nail clubbing and its associated complications.\n",
    "\n",
    "\"\"\",\n",
    "\n",
    "\"Terry's nails\" : \"\"\"Terry's nails is a physical condition in which a person's fingernails or toenails appear white with a characteristic \"ground glass\" appearance, lacking the normal pinkish hue and often without any visible lunula (the crescent-shaped area at the base of the nail). The nails may appear opaque and the distal band of reddish-brown coloration at the tip may be narrow or absent. This condition is generally due to a decrease in vascularity and an increase in connective tissue within the nail bed, leading to the distinctive white appearance.\n",
    "Terry's nails can indicate various underlying health issues. Liver diseases, such as cirrhosis and hepatitis, are commonly associated with this condition due to the impaired liver function affecting nail health. Chronic kidney failure can also lead to Terry's nails, as the kidneys' reduced efficiency in filtering toxins impacts the body’s vascular and connective tissues. Congestive heart failure is another possible cause, as it compromises circulation, leading to the decreased blood flow to the nails. Diabetes mellitus, especially when poorly controlled, can result in vascular changes that present as Terry's nails. Malnutrition, particularly protein deficiency, and the natural effects of aging can also contribute to the development of this condition. Additionally, chemotherapy can lead to changes in nail appearance, including Terry's nails, due to its impact on rapidly dividing cells and overall health.\n",
    "Addressing Terry's nails involves identifying and treating the underlying health condition contributing to the nail changes. For instance, managing liver disease through appropriate medications, lifestyle changes, or potentially liver transplantation can improve nail health. Similarly, treating chronic kidney failure with dialysis or kidney transplantation, and managing congestive heart failure with medications and lifestyle modifications, can help alleviate the symptoms of Terry's nails. For diabetes mellitus, strict blood sugar control through diet, exercise, and medications is essential. Ensuring adequate nutrition and addressing any deficiencies can also help improve nail appearance. If chemotherapy is the cause, monitoring and supporting overall health during and after treatment is crucial.\n",
    "Preventing Terry's nails primarily involves maintaining overall health and managing risk factors for the associated conditions. Regular medical check-ups and early intervention for liver, kidney, and heart diseases are essential. For individuals with diabetes, maintaining tight blood sugar control is crucial. A balanced diet rich in essential nutrients, regular exercise, and avoiding excessive alcohol consumption can support overall health and reduce the risk of conditions that may lead to Terry's nails. For those undergoing chemotherapy, supportive care and monitoring by healthcare providers can help manage and mitigate side effects, including changes in nail health.\n",
    "\"\"\",\n",
    "\n",
    "\"Beau's lines\" : \"\"\"Beau's lines are horizontal indentations or grooves that run across the nailline, contrasting with vertical ridges that extend from the cuticle to the fingertip, which are generally a benign sign of aging. Beau's lines are typically more pronounced and can be felt as a distinct ridge across the nail surface. They indicate a temporary disruption in the growth of the nail plate and can appear on one or more nails simultaneously. The severity of these lines can vary, ranging from shallow to deep grooves, depending on the underlying cause and the extent of the disruption in nail growth.\n",
    "The formation of Beau's lines is attributed to a temporary cessation of cell division in the nail matrix, the area responsible for producing new nail cells. This interruption in nail growth can result from various factors. Infections, such as severe viral or bacterial infections, can cause a significant enough systemic disturbance to affect nail growth. Trauma to the nail fold, where the nail begins to form, can also lead to the development of Beau's lines. Additionally, systemic illnesses such as high fever, severe malnutrition, or chronic diseases like diabetes and peripheral vascular disease can halt nail production temporarily. Chemotherapy, which targets rapidly dividing cells, including those in the nail matrix, often results in Beau's lines. Other causes include severe stress, major surgeries, or exposure to toxic substances.\n",
    "There is no specific treatment for Beau's lines themselves, as they are a symptom rather than a condition. The key to addressing Beau's lines lies in identifying and treating the underlying cause. Once the precipitating factor is resolved, normal nail growth will resume, and the lines will eventually grow out and disappear. For instance, if Beau's lines result from an infection, appropriate medical treatment for the infection is necessary. In cases where trauma is the cause, protecting the nail from further injury will allow the nail to heal and grow normally. Managing chronic diseases, maintaining adequate nutrition, and minimizing exposure to stress can also help prevent the recurrence of Beau's lines. Healthcare providers may recommend specific treatments tailored to the underlying condition, ensuring a comprehensive approach to resolving the issue.\n",
    "\n",
    "Preventing Beau's lines involves maintaining overall health and promptly addressing any conditions that could disrupt nail growth. Regular medical check-ups and early intervention for infections, chronic illnesses, and nutritional deficiencies are essential. Practicing good nail hygiene and protecting nails from trauma can help reduce the risk of physical injuries to the nail matrix. Managing stress through relaxation techniques, regular exercise, and a balanced diet can support overall well-being and prevent disruptions in nail growth. For individuals undergoing chemotherapy or other treatments that may affect nail health, close monitoring and supportive care by healthcare providers can help mitigate the impact on nail growth\n",
    "\"\"\",\n",
    "\n",
    "\"Onychomycosis\" : \"\"\"The most common symptom of onychomycosis is the nail becoming thickened and discolored, often presenting in shades of white, black, yellow, or green. As the fungal infection progresses, the affected nail may become brittle, leading to pieces breaking off or the nail detaching from the nail bed entirely. If left untreated, the surrounding skin can become inflamed, red, and painful, potentially leading to secondary bacterial infections. In severe cases, the nail may develop an unpleasant odor, and the overall appearance of the nail can become severely distorted.\n",
    "Onychomycosis, also known as tinea unguium, is a fungal infection of the nail caused by various types of fungi, including dermatophytes, yeasts, and non-dermatophyte molds. Dermatophytes are the most common culprits, thriving in warm, moist environments and typically infecting the toenails more frequently than the fingernails. Risk factors for developing onychomycosis include advanced age, compromised immune systems, diabetes, poor peripheral circulation, and a history of athlete’s foot. Environmental factors such as walking barefoot in communal areas like swimming pools, gyms, and locker rooms can also increase the likelihood of contracting the infection.\n",
    "Onychomycosis does not necessarily require treatment in all cases, particularly if the infection is mild and not causing significant discomfort. However, medical evaluation is essential to determine the severity of the infection and to decide on an appropriate course of action. For more severe or persistent infections, oral antifungal medications, such as terbinafine or itraconazole, are often prescribed. These medications can penetrate the nail and effectively eradicate the infection from within, though they require prolonged use and monitoring for potential side effects. Topical antifungal treatments, although less effective for severe infections, can be useful for milder cases or as an adjunct to oral medications. Regular trimming and thinning of the affected nails, either by the patient or a healthcare professional, can help reduce fungal load and improve the efficacy of topical treatments.\n",
    "Preventing onychomycosis involves adopting good nail hygiene practices and making lifestyle changes to reduce exposure to fungal pathogens. Keeping nails clean and dry is paramount, as fungi thrive in moist environments. Regularly trimming nails straight across and smoothing the edges can prevent fungal growth and reduce the risk of injury. Disinfecting nail clippers after each use helps prevent the spread of infection. Wearing breathable footwear and moisture-wicking socks can minimize moisture buildup, especially for those prone to sweaty feet. In communal areas, wearing protective footwear such as flip-flops or shower shoes can significantly reduce the risk of contracting the infection. Additionally, avoiding sharing personal items like towels and nail clippers with others can prevent the spread of fungi.\n",
    "\n",
    "\"\"\"\n",
    "}"
   ]
  },
  {
   "cell_type": "markdown",
   "id": "a1faa672-0205-4195-aeb5-57c29218bee4",
   "metadata": {},
   "source": [
    "# Answer end-user's question"
   ]
  },
  {
   "cell_type": "code",
   "execution_count": 26,
   "id": "161e3a8a-690b-4fb8-b84b-04a6eaa8bdcc",
   "metadata": {},
   "outputs": [],
   "source": [
    "def ask_questions(prediction):\n",
    "    # Collect input from user\n",
    "    print(\"Ask your question: \")\n",
    "    question = input()\n",
    "    \n",
    "    return questions_pipe(\n",
    "        question = question,\n",
    "        context = resources[prediction]\n",
    "    )['answer']"
   ]
  },
  {
   "cell_type": "code",
   "execution_count": null,
   "id": "156e955b-6f32-4991-afb6-2be9643b5ae7",
   "metadata": {},
   "outputs": [
    {
     "name": "stdout",
     "output_type": "stream",
     "text": [
      "Ask your question: \n"
     ]
    }
   ],
   "source": [
    "ask_questions(\"Clubbing\")"
   ]
  },
  {
   "cell_type": "code",
   "execution_count": null,
   "id": "37c2ac23-1807-4c2f-977a-04b8888685af",
   "metadata": {},
   "outputs": [],
   "source": [
    "# Collect input from user\n",
    "#print(\"Ask your question: \")\n",
    "#question = input()\n",
    "\n",
    "# TO BE MODIFIED ACCORDING TO PREDICTION NAME IN OTHER FILES\n",
    "#questions_pipe(\n",
    " #   question = question,\n",
    "  #  context = resources[prediction]\n",
    "#)['answer']"
   ]
  }
 ],
 "metadata": {
  "kernelspec": {
   "display_name": "Python 3 (ipykernel)",
   "language": "python",
   "name": "python3"
  },
  "language_info": {
   "codemirror_mode": {
    "name": "ipython",
    "version": 3
   },
   "file_extension": ".py",
   "mimetype": "text/x-python",
   "name": "python",
   "nbconvert_exporter": "python",
   "pygments_lexer": "ipython3",
   "version": "3.10.6"
  }
 },
 "nbformat": 4,
 "nbformat_minor": 5
}
