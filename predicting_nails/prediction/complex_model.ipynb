{
 "cells": [
  {
   "cell_type": "code",
   "execution_count": 5,
   "metadata": {
    "executionInfo": {
     "elapsed": 415,
     "status": "ok",
     "timestamp": 1717677023365,
     "user": {
      "displayName": "Arianna M",
      "userId": "14224361268861447076"
     },
     "user_tz": -120
    },
    "id": "y0BnlazAcMHg"
   },
   "outputs": [
    {
     "ename": "ModuleNotFoundError",
     "evalue": "No module named 'google.colab'",
     "output_type": "error",
     "traceback": [
      "\u001b[0;31m---------------------------------------------------------------------------\u001b[0m",
      "\u001b[0;31mModuleNotFoundError\u001b[0m                       Traceback (most recent call last)",
      "Cell \u001b[0;32mIn[5], line 13\u001b[0m\n\u001b[1;32m     11\u001b[0m \u001b[38;5;28;01mfrom\u001b[39;00m \u001b[38;5;21;01mtensorflow\u001b[39;00m\u001b[38;5;21;01m.\u001b[39;00m\u001b[38;5;21;01mkeras\u001b[39;00m\u001b[38;5;21;01m.\u001b[39;00m\u001b[38;5;21;01mapplications\u001b[39;00m \u001b[38;5;28;01mimport\u001b[39;00m ResNet50, EfficientNetB0\n\u001b[1;32m     12\u001b[0m \u001b[38;5;28;01mfrom\u001b[39;00m \u001b[38;5;21;01mkeras\u001b[39;00m\u001b[38;5;21;01m.\u001b[39;00m\u001b[38;5;21;01moptimizers\u001b[39;00m \u001b[38;5;28;01mimport\u001b[39;00m Adam\n\u001b[0;32m---> 13\u001b[0m \u001b[38;5;28;01mfrom\u001b[39;00m \u001b[38;5;21;01mgoogle\u001b[39;00m\u001b[38;5;21;01m.\u001b[39;00m\u001b[38;5;21;01mcolab\u001b[39;00m \u001b[38;5;28;01mimport\u001b[39;00m drive\n",
      "\u001b[0;31mModuleNotFoundError\u001b[0m: No module named 'google.colab'"
     ]
    }
   ],
   "source": [
    "# Imports\n",
    "import os\n",
    "from PIL import Image\n",
    "import numpy as np\n",
    "import matplotlib.pyplot as plt\n",
    "from tensorflow.keras import layers, models, Sequential\n",
    "from tensorflow.keras.callbacks import EarlyStopping\n",
    "from tensorflow.keras.utils import to_categorical\n",
    "from tensorflow.keras.applications.vgg16 import VGG16\n",
    "from tensorflow.keras.preprocessing.image import ImageDataGenerator\n",
    "from tensorflow.keras.applications import ResNet50, EfficientNetB0\n",
    "from keras.optimizers import Adam\n",
    "from google.colab import drive"
   ]
  },
  {
   "cell_type": "code",
   "execution_count": 3,
   "metadata": {
    "executionInfo": {
     "elapsed": 4,
     "status": "ok",
     "timestamp": 1717676295108,
     "user": {
      "displayName": "Arianna M",
      "userId": "14224361268861447076"
     },
     "user_tz": -120
    },
    "id": "3oNkCZFecMHh"
   },
   "outputs": [],
   "source": [
    "# Plots Loss and accuracy of the train versus the validation data\n",
    "def plot_history(history, title='', axs=None, exp_name=\"\"):\n",
    "    if axs is not None:\n",
    "        ax1, ax2 = axs\n",
    "    else:\n",
    "        f, (ax1, ax2) = plt.subplots(1, 2, figsize=(12, 4))\n",
    "\n",
    "    if len(exp_name) > 0 and exp_name[0] != '_':\n",
    "        exp_name = '_' + exp_name\n",
    "    ax1.plot(history.history['loss'], label = 'train' + exp_name)\n",
    "    ax1.plot(history.history['val_loss'], label = 'val' + exp_name)\n",
    "    ax1.set_ylim(0., 2.2)\n",
    "    ax1.set_title('loss')\n",
    "    ax1.legend()\n",
    "\n",
    "    ax2.plot(history.history['accuracy'], label='train accuracy'  + exp_name)\n",
    "    ax2.plot(history.history['val_accuracy'], label='val accuracy'  + exp_name)\n",
    "    ax2.set_ylim(0.25, 1.)\n",
    "    ax2.set_title('Accuracy')\n",
    "    ax2.legend()\n",
    "    return (ax1, ax2)"
   ]
  },
  {
   "cell_type": "markdown",
   "metadata": {
    "id": "QQYqNy8lcMHh"
   },
   "source": [
    "# Load the data from local\n"
   ]
  },
  {
   "cell_type": "code",
   "execution_count": 4,
   "metadata": {
    "colab": {
     "base_uri": "https://localhost:8080/"
    },
    "executionInfo": {
     "elapsed": 21841,
     "status": "ok",
     "timestamp": 1717676316946,
     "user": {
      "displayName": "Arianna M",
      "userId": "14224361268861447076"
     },
     "user_tz": -120
    },
    "id": "nEn1piu2dDy0",
    "outputId": "c2c57644-0f38-4e4b-f975-3d9a870689b2"
   },
   "outputs": [
    {
     "data": {
      "text/plain": [
       "'Nail'"
      ]
     },
     "execution_count": 4,
     "metadata": {},
     "output_type": "execute_result"
    }
   ],
   "source": [
    "# mount drive if working in google collab\n",
    "drive.mount('/content/drive/')"
   ]
  },
  {
   "cell_type": "code",
   "execution_count": 5,
   "metadata": {
    "executionInfo": {
     "elapsed": 247506,
     "status": "ok",
     "timestamp": 1717676564451,
     "user": {
      "displayName": "Arianna M",
      "userId": "14224361268861447076"
     },
     "user_tz": -120
    },
    "id": "rVHC2VzycMHi"
   },
   "outputs": [],
   "source": [
    "# Load all the images from the \"Nail\" folder in your \"raw_data\" folder\n",
    "\n",
    "categories = ['normal', 'beau_s line', 'black line', 'clubbing', 'mees_ line', 'onycholysis', 'terry_s nail', 'white spot']\n",
    "\n",
    "X = []\n",
    "y = []\n",
    "\n",
    "# Load the images\n",
    "local_path = os.path.join(os.path.expanduser('~'), 'code', 'ariannamng',\n",
    "                              'predicting_nail_diseases',  'Nail')\n",
    "\n",
    "for category in categories:\n",
    "    path = f'/content/drive/My Drive/Colab Notebooks/predicting_nails/raw_data/Nail/{category}'\n",
    "\n",
    "    for f in os.listdir(path):\n",
    "            img = Image.open(os.path.join(path, f))\n",
    "            foo = img.resize((256,256))\n",
    "            X.append(np.array(foo))\n",
    "            y.append(categories.index(category))\n"
   ]
  },
  {
   "cell_type": "markdown",
   "metadata": {},
   "source": [
    "# Load the data for jupyter notebook"
   ]
  },
  {
   "cell_type": "code",
   "execution_count": 6,
   "metadata": {},
   "outputs": [],
   "source": [
    "# Load all the images from the \"Nail\" folder in your \"raw_data\" folder\n",
    "\n",
    "categories = ['normal', 'beau_s line', 'black line', 'clubbing', 'mees_ line', 'onycholysis', 'terry_s nail', 'white spot']\n",
    "\n",
    "X = []\n",
    "y = []\n",
    "\n",
    "for category in categories:\n",
    "    path = os.path.join(os.path.expanduser('~'), \"code\", \"ariannamng\",\n",
    "                                   \"predicting_nail_diseases\", 'raw_data', 'Nail', category)\n",
    "\n",
    "    for f in os.listdir(path):\n",
    "            img = Image.open(os.path.join(path, f))\n",
    "            foo = img.resize((256,256))\n",
    "            X.append(np.array(foo))\n",
    "            y.append(categories.index(category))\n"
   ]
  },
  {
   "cell_type": "markdown",
   "metadata": {},
   "source": [
    "# Preprocessing"
   ]
  },
  {
   "cell_type": "code",
   "execution_count": 7,
   "metadata": {},
   "outputs": [],
   "source": [
    "# Shuffel the data\n",
    "\n",
    "c = list(zip(X, y))\n",
    "np.random.shuffle(c)\n",
    "X, y = zip(*c)\n",
    "X = np.array(X)\n",
    "y = np.array(y)"
   ]
  },
  {
   "cell_type": "code",
   "execution_count": 8,
   "metadata": {
    "executionInfo": {
     "elapsed": 5,
     "status": "ok",
     "timestamp": 1717676565373,
     "user": {
      "displayName": "Arianna M",
      "userId": "14224361268861447076"
     },
     "user_tz": -120
    },
    "id": "cPbVk4sNdWkS"
   },
   "outputs": [],
   "source": [
    "num_classes = 8\n",
    "y = to_categorical(y, num_classes= num_classes)"
   ]
  },
  {
   "cell_type": "code",
   "execution_count": 9,
   "metadata": {
    "executionInfo": {
     "elapsed": 416,
     "status": "ok",
     "timestamp": 1717676565786,
     "user": {
      "displayName": "Arianna M",
      "userId": "14224361268861447076"
     },
     "user_tz": -120
    },
    "id": "Tm56exGwcMHi"
   },
   "outputs": [],
   "source": [
    "# split data in test, val, train and preprocess data\n",
    "ratio_train = 0.6\n",
    "ratio_val = 0.2\n",
    "len_train = int(X.shape[0]*ratio_train)\n",
    "len_val = int(X.shape[0]*ratio_val)\n",
    "\n",
    "X_train_processed = X[:len_train]/ 255. - 0.5\n",
    "X_val_processed = X[len_train:(len_train+len_val)]/ 255. - 0.5\n",
    "X_test_processed = X[(len_train+len_val):X.shape[0]]/ 255. - 0.5\n",
    "\n",
    "y_train = y[:len_train]\n",
    "y_val = y[len_train:(len_train+len_val)]\n",
    "y_test = y[(len_train+len_val):X.shape[0]]"
   ]
  },
  {
   "cell_type": "markdown",
   "metadata": {
    "id": "xwKEP3GxcMHj"
   },
   "source": [
    "# TRANSFER LEARNING"
   ]
  },
  {
   "cell_type": "code",
   "execution_count": 10,
   "metadata": {
    "executionInfo": {
     "elapsed": 3,
     "status": "ok",
     "timestamp": 1717676982270,
     "user": {
      "displayName": "Arianna M",
      "userId": "14224361268861447076"
     },
     "user_tz": -120
    },
    "id": "OlYWr2mncMHj"
   },
   "outputs": [],
   "source": [
    "# Compile the model as a binary classification model\n",
    "\n",
    "#change learning rate adam, change dropout layer, try diffent neurons (now its 500) and change pacience of early stopping\n",
    "\n",
    "\n",
    "\n",
    "\n",
    "def compile_model(model):\n",
    "    '''return a compiled model for the baseline'''\n",
    "    adam = Adam(learning_rate = 0.0001)\n",
    "\n",
    "    model.compile(loss='categorical_crossentropy',\n",
    "              optimizer=adam,\n",
    "              metrics=['accuracy'])\n",
    "    return model"
   ]
  },
  {
   "cell_type": "code",
   "execution_count": 1,
   "metadata": {
    "executionInfo": {
     "elapsed": 4,
     "status": "ok",
     "timestamp": 1717677832559,
     "user": {
      "displayName": "Arianna M",
      "userId": "14224361268861447076"
     },
     "user_tz": -120
    },
    "id": "JUUfnzA7cMHj"
   },
   "outputs": [],
   "source": [
    "# Initialize and compile a model for a transfer learning\n",
    "\n",
    "def build_model(base_model):\n",
    "    '''instanciate and return the CNN architecture'''\n",
    "    base_model.trainable = False\n",
    "    flattening_layer = layers.Flatten()\n",
    "    dense_layer = layers.Dense(500, activation='relu')\n",
    "    drop_out = layers.Dropout(0.6)\n",
    "    prediction_layer = layers.Dense(8, activation='softmax')\n",
    "\n",
    "    model = Sequential([\n",
    "      base_model,\n",
    "      flattening_layer,\n",
    "      dense_layer,\n",
    "      drop_out,\n",
    "      prediction_layer\n",
    "      ])\n",
    "    return compile_model(model)"
   ]
  },
  {
   "cell_type": "markdown",
   "metadata": {
    "id": "c-sCl-gkd1jg"
   },
   "source": [
    "# Data augmentation"
   ]
  },
  {
   "cell_type": "code",
   "execution_count": 12,
   "metadata": {
    "executionInfo": {
     "elapsed": 3,
     "status": "ok",
     "timestamp": 1717677835620,
     "user": {
      "displayName": "Arianna M",
      "userId": "14224361268861447076"
     },
     "user_tz": -120
    },
    "id": "JXeAvSfXd0ee"
   },
   "outputs": [],
   "source": [
    "# Add Data Augmentation if your model is overfitting\n",
    "aug = ImageDataGenerator(\n",
    "   rescale=1./255,\n",
    "    rotation_range=20,\n",
    "    width_shift_range=0.2,\n",
    "    height_shift_range=0.2,\n",
    "    shear_range=0.2,\n",
    "    zoom_range=0.2,\n",
    "    horizontal_flip=True,\n",
    "    fill_mode='nearest'\n",
    ")\n",
    "\n",
    "\n",
    "# compute quantities required for featurewise normalization\n",
    "# (std, mean, and principal components if ZCA whitening is applied)\n",
    "aug.fit(X_train_processed)\n",
    "\n",
    "train_flow = aug.flow(X_train_processed, y_train, batch_size=16)\n",
    "val_flow = aug.flow(X_val_processed, y_val, batch_size=16)"
   ]
  },
  {
   "cell_type": "markdown",
   "metadata": {
    "id": "oKFwp1kucMHj"
   },
   "source": [
    "# VGG16 model"
   ]
  },
  {
   "cell_type": "code",
   "execution_count": 13,
   "metadata": {
    "executionInfo": {
     "elapsed": 728,
     "status": "ok",
     "timestamp": 1717677838301,
     "user": {
      "displayName": "Arianna M",
      "userId": "14224361268861447076"
     },
     "user_tz": -120
    },
    "id": "SvV9P4NFcMHj"
   },
   "outputs": [],
   "source": [
    "# Loads the VGG16 model\n",
    "def load_VGG16_model():\n",
    "    model = VGG16(weights=\"imagenet\", include_top=False, input_shape=X_train_processed.shape[1:4])\n",
    "    return model"
   ]
  },
  {
   "cell_type": "code",
   "execution_count": null,
   "metadata": {
    "executionInfo": {
     "elapsed": 477361,
     "status": "ok",
     "timestamp": 1717678316053,
     "user": {
      "displayName": "Arianna M",
      "userId": "14224361268861447076"
     },
     "user_tz": -120
    },
    "id": "f7qxq1ItcMHj"
   },
   "outputs": [
    {
     "name": "stdout",
     "output_type": "stream",
     "text": [
      "Epoch 1/100\n",
      "\u001b[1m18/18\u001b[0m \u001b[32m━━━━━━━━━━━━━━━━━━━━\u001b[0m\u001b[37m\u001b[0m \u001b[1m43s\u001b[0m 2s/step - accuracy: 0.1193 - loss: 11.6993 - val_accuracy: 0.0938 - val_loss: 8.9665\n",
      "Epoch 2/100\n",
      "\u001b[1m18/18\u001b[0m \u001b[32m━━━━━━━━━━━━━━━━━━━━\u001b[0m\u001b[37m\u001b[0m \u001b[1m40s\u001b[0m 2s/step - accuracy: 0.1454 - loss: 8.6643 - val_accuracy: 0.1458 - val_loss: 6.7795\n",
      "Epoch 3/100\n",
      "\u001b[1m18/18\u001b[0m \u001b[32m━━━━━━━━━━━━━━━━━━━━\u001b[0m\u001b[37m\u001b[0m \u001b[1m40s\u001b[0m 2s/step - accuracy: 0.1279 - loss: 6.4553 - val_accuracy: 0.1354 - val_loss: 5.3035\n",
      "Epoch 4/100\n",
      "\u001b[1m18/18\u001b[0m \u001b[32m━━━━━━━━━━━━━━━━━━━━\u001b[0m\u001b[37m\u001b[0m \u001b[1m39s\u001b[0m 2s/step - accuracy: 0.0955 - loss: 5.1020 - val_accuracy: 0.1146 - val_loss: 4.3558\n",
      "Epoch 5/100\n",
      "\u001b[1m18/18\u001b[0m \u001b[32m━━━━━━━━━━━━━━━━━━━━\u001b[0m\u001b[37m\u001b[0m \u001b[1m39s\u001b[0m 2s/step - accuracy: 0.1032 - loss: 4.2313 - val_accuracy: 0.1354 - val_loss: 3.7549\n",
      "Epoch 6/100\n",
      "\u001b[1m18/18\u001b[0m \u001b[32m━━━━━━━━━━━━━━━━━━━━\u001b[0m\u001b[37m\u001b[0m \u001b[1m39s\u001b[0m 2s/step - accuracy: 0.1357 - loss: 3.6484 - val_accuracy: 0.1458 - val_loss: 3.3745\n",
      "Epoch 7/100\n",
      "\u001b[1m18/18\u001b[0m \u001b[32m━━━━━━━━━━━━━━━━━━━━\u001b[0m\u001b[37m\u001b[0m \u001b[1m39s\u001b[0m 2s/step - accuracy: 0.1128 - loss: 3.3123 - val_accuracy: 0.1354 - val_loss: 3.1370\n",
      "Epoch 8/100\n",
      "\u001b[1m18/18\u001b[0m \u001b[32m━━━━━━━━━━━━━━━━━━━━\u001b[0m\u001b[37m\u001b[0m \u001b[1m38s\u001b[0m 2s/step - accuracy: 0.1137 - loss: 3.0983 - val_accuracy: 0.1250 - val_loss: 2.9834\n",
      "Epoch 9/100\n",
      "\u001b[1m18/18\u001b[0m \u001b[32m━━━━━━━━━━━━━━━━━━━━\u001b[0m\u001b[37m\u001b[0m \u001b[1m39s\u001b[0m 2s/step - accuracy: 0.1063 - loss: 2.9551 - val_accuracy: 0.1250 - val_loss: 2.8843\n",
      "Epoch 10/100\n",
      "\u001b[1m18/18\u001b[0m \u001b[32m━━━━━━━━━━━━━━━━━━━━\u001b[0m\u001b[37m\u001b[0m \u001b[1m39s\u001b[0m 2s/step - accuracy: 0.0938 - loss: 2.8703 - val_accuracy: 0.1354 - val_loss: 2.8153\n",
      "Epoch 11/100\n",
      "\u001b[1m18/18\u001b[0m \u001b[32m━━━━━━━━━━━━━━━━━━━━\u001b[0m\u001b[37m\u001b[0m \u001b[1m39s\u001b[0m 2s/step - accuracy: 0.1172 - loss: 2.8071 - val_accuracy: 0.1354 - val_loss: 2.7658\n",
      "Epoch 12/100\n",
      "\u001b[1m18/18\u001b[0m \u001b[32m━━━━━━━━━━━━━━━━━━━━\u001b[0m\u001b[37m\u001b[0m \u001b[1m38s\u001b[0m 2s/step - accuracy: 0.1466 - loss: 2.7580 - val_accuracy: 0.1146 - val_loss: 2.7270\n",
      "Epoch 13/100\n",
      "\u001b[1m18/18\u001b[0m \u001b[32m━━━━━━━━━━━━━━━━━━━━\u001b[0m\u001b[37m\u001b[0m \u001b[1m38s\u001b[0m 2s/step - accuracy: 0.1552 - loss: 2.7178 - val_accuracy: 0.1354 - val_loss: 2.6909\n",
      "Epoch 14/100\n",
      "\u001b[1m18/18\u001b[0m \u001b[32m━━━━━━━━━━━━━━━━━━━━\u001b[0m\u001b[37m\u001b[0m \u001b[1m39s\u001b[0m 2s/step - accuracy: 0.1335 - loss: 2.7044 - val_accuracy: 0.1146 - val_loss: 2.6665\n",
      "Epoch 15/100\n",
      "\u001b[1m18/18\u001b[0m \u001b[32m━━━━━━━━━━━━━━━━━━━━\u001b[0m\u001b[37m\u001b[0m \u001b[1m40s\u001b[0m 2s/step - accuracy: 0.1064 - loss: 2.6684 - val_accuracy: 0.1250 - val_loss: 2.6454\n",
      "Epoch 16/100\n",
      "\u001b[1m18/18\u001b[0m \u001b[32m━━━━━━━━━━━━━━━━━━━━\u001b[0m\u001b[37m\u001b[0m \u001b[1m39s\u001b[0m 2s/step - accuracy: 0.1029 - loss: 2.6510 - val_accuracy: 0.1042 - val_loss: 2.6256\n",
      "Epoch 17/100\n",
      "\u001b[1m18/18\u001b[0m \u001b[32m━━━━━━━━━━━━━━━━━━━━\u001b[0m\u001b[37m\u001b[0m \u001b[1m39s\u001b[0m 2s/step - accuracy: 0.1235 - loss: 2.6185 - val_accuracy: 0.1458 - val_loss: 2.5950\n",
      "Epoch 18/100\n"
     ]
    }
   ],
   "source": [
    "# Fit the VGG16 model on the train data\n",
    "es = EarlyStopping(patience = 50 , restore_best_weights=True)\n",
    "VGG16_model = build_model(load_VGG16_model())\n",
    "\n",
    "history_VGG16 = VGG16_model.fit(\n",
    "  train_flow,\n",
    "  validation_data = val_flow,\n",
    "  epochs = 200,\n",
    "  batch_size = 32,\n",
    "  verbose = 1,\n",
    "  callbacks = [es]\n",
    ")"
   ]
  },
  {
   "cell_type": "code",
   "execution_count": null,
   "metadata": {},
   "outputs": [],
   "source": [
    "loss, accuracy = history_VGG16.evaluate(train_flow)\n",
    "            print(f\"Training Loss: {loss}, Training Accuracy: {accuracy}\")"
   ]
  },
  {
   "cell_type": "code",
   "execution_count": 45,
   "metadata": {
    "colab": {
     "base_uri": "https://localhost:8080/",
     "height": 409
    },
    "executionInfo": {
     "elapsed": 711,
     "status": "ok",
     "timestamp": 1717678316746,
     "user": {
      "displayName": "Arianna M",
      "userId": "14224361268861447076"
     },
     "user_tz": -120
    },
    "id": "w1P42OMNcMHj",
    "outputId": "a073423c-f648-47bc-e482-f44473484578"
   },
   "outputs": [
    {
     "ename": "NameError",
     "evalue": "name 'history_VGG16' is not defined",
     "output_type": "error",
     "traceback": [
      "\u001b[0;31m---------------------------------------------------------------------------\u001b[0m",
      "\u001b[0;31mNameError\u001b[0m                                 Traceback (most recent call last)",
      "Cell \u001b[0;32mIn[45], line 2\u001b[0m\n\u001b[1;32m      1\u001b[0m \u001b[38;5;66;03m# Plot Loss and accuracy of the VGG16 model\u001b[39;00m\n\u001b[0;32m----> 2\u001b[0m plot_history(\u001b[43mhistory_VGG16\u001b[49m, title\u001b[38;5;241m=\u001b[39m\u001b[38;5;124m'\u001b[39m\u001b[38;5;124mVGG16\u001b[39m\u001b[38;5;124m'\u001b[39m, axs\u001b[38;5;241m=\u001b[39m\u001b[38;5;28;01mNone\u001b[39;00m, exp_name\u001b[38;5;241m=\u001b[39m\u001b[38;5;124m\"\u001b[39m\u001b[38;5;124m\"\u001b[39m)\n",
      "\u001b[0;31mNameError\u001b[0m: name 'history_VGG16' is not defined"
     ]
    }
   ],
   "source": [
    "# Plot Loss and accuracy of the VGG16 model\n",
    "plot_history(history_VGG16, title='VGG16', axs=None, exp_name=\"\")"
   ]
  },
  {
   "cell_type": "code",
   "execution_count": null,
   "metadata": {},
   "outputs": [],
   "source": [
    "# Plot training & validation accuracy values\n",
    "plt.plot(history_VGG16.history['accuracy'])\n",
    "plt.plot(history_VGG16.history['val_accuracy'])\n",
    "plt.title('VGG16 Accuracy')\n",
    "plt.xlabel('Epoch')\n",
    "plt.ylabel('Accuracy')\n",
    "plt.legend(['Train', 'Validation'], loc='upper left')\n",
    "plt.show()\n",
    "\n",
    "# Plot training & validation loss values\n",
    "plt.plot(history_VGG16.history['loss'])\n",
    "plt.plot(history_VGG16.history['val_loss'])\n",
    "plt.title('VGG16 Loss')\n",
    "plt.xlabel('Epoch')\n",
    "plt.ylabel('Loss')\n",
    "plt.legend(['Train', 'Validation'], loc='upper left')\n",
    "plt.show()"
   ]
  },
  {
   "cell_type": "code",
   "execution_count": null,
   "metadata": {
    "colab": {
     "base_uri": "https://localhost:8080/"
    },
    "executionInfo": {
     "elapsed": 1082,
     "status": "ok",
     "timestamp": 1717678337319,
     "user": {
      "displayName": "Arianna M",
      "userId": "14224361268861447076"
     },
     "user_tz": -120
    },
    "id": "g1yEEhBOcMHj",
    "outputId": "cc95388b-47ef-4b8b-9080-ac2243304fb9"
   },
   "outputs": [
    {
     "data": {
      "text/plain": [
       "[1.1535221338272095, 0.625]"
      ]
     },
     "execution_count": 28,
     "metadata": {},
     "output_type": "execute_result"
    }
   ],
   "source": [
    "# Evaluate the VGG16 model using the test data\n",
    "VGG16_model.evaluate(X_test_processed, y_test, verbose=0)"
   ]
  },
  {
   "cell_type": "markdown",
   "metadata": {
    "id": "mpDDW_41cMHj"
   },
   "source": [
    "# ResNet50"
   ]
  },
  {
   "cell_type": "code",
   "execution_count": null,
   "metadata": {
    "id": "7vv5u38pcMHj"
   },
   "outputs": [],
   "source": [
    "# Loads the ResNet50 model\n",
    "def load_ResNet50_model():\n",
    "    model = ResNet50(weights=\"imagenet\", include_top=False, input_shape=X_train_processed.shape[1:4])\n",
    "    return model"
   ]
  },
  {
   "cell_type": "code",
   "execution_count": null,
   "metadata": {
    "id": "7gWPJssvcMHj",
    "outputId": "bfd5e287-a582-4778-c345-ea692e5b32d3"
   },
   "outputs": [
    {
     "name": "stdout",
     "output_type": "stream",
     "text": [
      "Downloading data from https://storage.googleapis.com/tensorflow/keras-applications/resnet/resnet50_weights_tf_dim_ordering_tf_kernels_notop.h5\n",
      "94765736/94765736 [==============================] - 3s 0us/step\n"
     ]
    }
   ],
   "source": [
    "# Fit the ResNet50 model on the train data\n",
    "es = EarlyStopping(patience = 10)\n",
    "ResNet50_model = build_model(load_ResNet50_model())\n",
    "\n",
    "history_ResNet50 = ResNet50_model.fit(\n",
    "  X_train_processed,\n",
    "  y_train,\n",
    "  validation_split = 0.2,\n",
    "  epochs = 500,\n",
    "  batch_size = 32,\n",
    "  verbose = 0,\n",
    "  callbacks = [es]\n",
    ")"
   ]
  },
  {
   "cell_type": "code",
   "execution_count": null,
   "metadata": {
    "id": "ZmFeGKmwcMHk",
    "outputId": "ee80a74a-c367-4d3f-a909-4ac4755c5deb"
   },
   "outputs": [
    {
     "data": {
      "text/plain": [
       "(<AxesSubplot:title={'center':'loss'}>,\n",
       " <AxesSubplot:title={'center':'Accuracy'}>)"
      ]
     },
     "execution_count": 41,
     "metadata": {},
     "output_type": "execute_result"
    },
    {
     "data": {
      "image/png": "[encoded data removed]",
      "text/plain": [
       "<Figure size 1200x400 with 2 Axes>"
      ]
     },
     "metadata": {},
     "output_type": "display_data"
    }
   ],
   "source": [
    "# Plot Loss and accuracy of the ResNet50 model\n",
    "plot_history(history_ResNet50, title='ResNet50', axs=None, exp_name=\"\")"
   ]
  },
  {
   "cell_type": "code",
   "execution_count": null,
   "metadata": {
    "id": "c-duHnuPcMHk",
    "outputId": "5946d22f-761e-443a-ea3b-dde546df092e"
   },
   "outputs": [
    {
     "data": {
      "text/plain": [
       "[0.7244213223457336, 0.5833333134651184]"
      ]
     },
     "execution_count": 42,
     "metadata": {},
     "output_type": "execute_result"
    }
   ],
   "source": [
    "# Evaluate the ResNet50 model using the test data\n",
    "ResNet50_model.evaluate(X_test_processed, y_test, verbose=0)"
   ]
  },
  {
   "cell_type": "markdown",
   "metadata": {
    "id": "zajDctP0cMHk"
   },
   "source": [
    "# EfficientNetB0"
   ]
  },
  {
   "cell_type": "code",
   "execution_count": null,
   "metadata": {
    "id": "23c9mJoNcMHk"
   },
   "outputs": [],
   "source": [
    "# Loads the EfficientNetB0 model\n",
    "def load_EfficientNetB0_model():\n",
    "    model = EfficientNetB0(weights=\"imagenet\", include_top=False, input_shape=X_train_processed.shape[1:4])\n",
    "    return model"
   ]
  },
  {
   "cell_type": "code",
   "execution_count": null,
   "metadata": {
    "id": "1OvOux9PcMHk"
   },
   "outputs": [],
   "source": [
    "# Fit the EfficientNetB0 model on the train data\n",
    "es = EarlyStopping(patience = 10)\n",
    "EfficientNetB0_model = build_model(load_EfficientNetB0_model())\n",
    "\n",
    "history_EfficientNetB0 = EfficientNetB0_model.fit(\n",
    "  X_train_processed,\n",
    "  y_train,\n",
    "  validation_split = 0.2,\n",
    "  epochs = 500,\n",
    "  batch_size = 32,\n",
    "  verbose = 1,\n",
    "  callbacks = [es]\n",
    ")"
   ]
  },
  {
   "cell_type": "code",
   "execution_count": null,
   "metadata": {
    "id": "Sh_xQeuYcMHk"
   },
   "outputs": [],
   "source": [
    "# Plot Loss and accuracy of the EfficientNetB0 model\n",
    "plot_history(history_EfficientNetB0, title='EfficientNetB0', axs=None, exp_name=\"\")"
   ]
  },
  {
   "cell_type": "code",
   "execution_count": null,
   "metadata": {
    "id": "AzxRNyy0cMHk"
   },
   "outputs": [],
   "source": [
    "# Evaluate the EfficientNetB0 model using the test data\n",
    "EfficientNetB0_model.evaluate(X_test_processed, y_test, verbose=0)"
   ]
  }
 ],
 "metadata": {
  "accelerator": "GPU",
  "colab": {
   "gpuType": "T4",
   "provenance": []
  },
  "kernelspec": {
   "display_name": "Python 3 (ipykernel)",
   "language": "python",
   "name": "python3"
  },
  "language_info": {
   "codemirror_mode": {
    "name": "ipython",
    "version": 3
   },
   "file_extension": ".py",
   "mimetype": "text/x-python",
   "name": "python",
   "nbconvert_exporter": "python",
   "pygments_lexer": "ipython3",
   "version": "3.10.6"
  },
  "toc": {
   "base_numbering": 1,
   "nav_menu": {},
   "number_sections": true,
   "sideBar": true,
   "skip_h1_title": false,
   "title_cell": "Table of Contents",
   "title_sidebar": "Contents",
   "toc_cell": false,
   "toc_position": {},
   "toc_section_display": true,
   "toc_window_display": false
  }
 },
 "nbformat": 4,
 "nbformat_minor": 4
}
