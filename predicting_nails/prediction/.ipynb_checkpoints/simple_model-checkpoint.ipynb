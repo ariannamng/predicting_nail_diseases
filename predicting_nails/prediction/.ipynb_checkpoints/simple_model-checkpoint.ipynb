{
 "cells": [
  {
   "cell_type": "code",
   "execution_count": 2,
   "metadata": {},
   "outputs": [],
   "source": [
    "\n",
    "# Imports\n",
    "import os\n",
    "#from predicting_nails.params import *\n",
    "import matplotlib.pyplot as plt\n",
    "from tensorflow.keras import layers, models, Sequential\n",
    "from tensorflow.keras.callbacks import EarlyStopping\n",
    "from tensorflow.keras.applications.vgg16 import VGG16\n",
    "from tensorflow.keras.applications import ResNet50, EfficientNetB0\n",
    "#from keras.preprocessing.image import ImageDataGenerator\n",
    "#from predicting_nails.prediction.get_data import *\n",
    "from PIL import Image\n"
   ]
  },
  {
   "cell_type": "code",
   "execution_count": 8,
   "metadata": {},
   "outputs": [],
   "source": [
    "LOCAL_DATA_PATH = os.path.join(os.path.expanduser('~'), \"code\", \"ariannamng\",\n",
    "                               \"predicting_nail_diseases\", 'raw_data')"
   ]
  },
  {
   "cell_type": "code",
   "execution_count": 9,
   "metadata": {},
   "outputs": [],
   "source": [
    "import os\n",
    "import numpy as np\n",
    "from PIL import Image\n",
    "\n",
    "def download_bucket_objects(bucket_name, blob_path, local_path):\n",
    "    # blob path is bucket folder name\n",
    "    command = \"gsutil cp -r gs://{bucketname}/{blobpath} {localpath}\".format(bucketname = bucket_name, blobpath = blob_path, localpath = local_path)\n",
    "    os.system(command)\n",
    "    return command\n",
    "\n",
    "# Define the bucket name and the blob_path and load the data from GBP to a local directory\n",
    "def get_simple_data(nb_healthy = 50, nb_disease = 50):\n",
    "    local_dir = os.path.join(LOCAL_DATA_PATH, \"dataset_for_model_1\")\n",
    "    if os.path.exists(local_dir) == False:\n",
    "        bucket_name = 'predicting-nail-diseases' # do not use gs://\n",
    "        for i in range(0,nb_healthy):\n",
    "            try:\n",
    "                blob_path_h = f'dataset_for_model_1/healthy_data/healthy_{i}.JPG' # blob path in bucket where healthy data is stored\n",
    "                local_dir = os.path.join(LOCAL_DATA_PATH, \"dataset_for_model_1\", f\"healthy_{i}.JPG\") # path to the RAW data foldr from .env\n",
    "                download_bucket_objects(bucket_name, blob_path_h, local_dir)\n",
    "            except:\n",
    "                pass\n",
    "        for i in range(0,nb_disease):\n",
    "            try:\n",
    "                blob_path_d = f'dataset_for_model_1/diseased_data/diseased_{i}.JPG' # blob path in bucket where diseased data is stored\n",
    "                local_dir = os.path.join(LOCAL_DATA_PATH, \"dataset_for_model_1\", f\"diseased_{i}.JPG\") # path to the RAW data foldr from .env\n",
    "                download_bucket_objects(bucket_name, blob_path_d, local_dir)\n",
    "            except:\n",
    "                pass\n",
    "\n",
    "\n",
    "def load_simple_data(path, nb_healthy = 50, nb_disease = 50):\n",
    "\n",
    "    X, y = [], []\n",
    "\n",
    "    for i in range(nb_healthy):\n",
    "        h_path = os.path.join(path, 'dataset_for_model_1', f'healthy_{i}.JPG')\n",
    "        img = Image.open(h_path)\n",
    "        foo = img.resize((256,256))\n",
    "        X.append(np.array(foo))\n",
    "        y.append(0)\n",
    "\n",
    "    for i in range(nb_disease):\n",
    "        d_path = os.path.join(path, 'dataset_for_model_1', f'diseased_{i}.JPG')\n",
    "        img = Image.open(h_path)\n",
    "        foo = img.resize((256,256))\n",
    "        X.append(np.array(foo))\n",
    "        y.append(1)\n",
    "\n",
    "    c = list(zip(X, y))\n",
    "    np.random.shuffle(c)\n",
    "    X, y = zip(*c)\n",
    "\n",
    "    return np.array(X), np.array(y)\n"
   ]
  },
  {
   "cell_type": "code",
   "execution_count": 10,
   "metadata": {},
   "outputs": [],
   "source": [
    "# Plots Loss and accuracy of the train veresus the validation data\n",
    "def plot_history(history, title='', axs=None, exp_name=\"\"):\n",
    "    if axs is not None:\n",
    "        ax1, ax2 = axs\n",
    "    else:\n",
    "        f, (ax1, ax2) = plt.subplots(1, 2, figsize=(12, 4))\n",
    "\n",
    "    if len(exp_name) > 0 and exp_name[0] != '_':\n",
    "        exp_name = '_' + exp_name\n",
    "    ax1.plot(history.history['loss'], label = 'train' + exp_name)\n",
    "    ax1.plot(history.history['val_loss'], label = 'val' + exp_name)\n",
    "    ax1.set_ylim(0., 2.2)\n",
    "    ax1.set_title('loss')\n",
    "    ax1.legend()\n",
    "\n",
    "    ax2.plot(history.history['accuracy'], label='train accuracy'  + exp_name)\n",
    "    ax2.plot(history.history['val_accuracy'], label='val accuracy'  + exp_name)\n",
    "    ax2.set_ylim(0.25, 1.)\n",
    "    ax2.set_title('Accuracy')\n",
    "    ax2.legend()\n",
    "    return (ax1, ax2)"
   ]
  },
  {
   "cell_type": "code",
   "execution_count": null,
   "metadata": {},
   "outputs": [],
   "source": []
  },
  {
   "cell_type": "code",
   "execution_count": 11,
   "metadata": {},
   "outputs": [],
   "source": [
    "# Compile the model as a binary classification model\n",
    "\n",
    "def compile_model(model):\n",
    "    '''return a compiled model for the baseline'''\n",
    "    model.compile(loss='binary_crossentropy',\n",
    "              optimizer='adam',\n",
    "              metrics=['accuracy'])\n",
    "    return model"
   ]
  },
  {
   "cell_type": "code",
   "execution_count": 12,
   "metadata": {},
   "outputs": [],
   "source": [
    "# Set the first layers to be untrainable\n",
    "\n",
    "def set_nontrainable_layers(model):\n",
    "    model.trainable = False\n",
    "    return model"
   ]
  },
  {
   "cell_type": "code",
   "execution_count": 13,
   "metadata": {},
   "outputs": [],
   "source": [
    "# Initialize and compile a model for a transfer learning\n",
    "\n",
    "def build_model(base_model):\n",
    "      '''instanciate and return the CNN architecture'''\n",
    "      base_model = set_nontrainable_layers(base_model)\n",
    "      flattening_layer = layers.Flatten()\n",
    "      dense_layer = layers.Dense(500, activation='relu')\n",
    "      prediction_layer = layers.Dense(1, activation='sigmoid')\n",
    "\n",
    "      model = Sequential([\n",
    "      base_model,\n",
    "      flattening_layer,\n",
    "      dense_layer,\n",
    "      prediction_layer\n",
    "      ])\n",
    "      return compile_model(model)"
   ]
  },
  {
   "cell_type": "markdown",
   "metadata": {},
   "source": [
    "# Load the data"
   ]
  },
  {
   "cell_type": "code",
   "execution_count": 14,
   "metadata": {},
   "outputs": [],
   "source": [
    "# Get resized (224,224,3) and labeled (0,1) data from your local directory for the simple model\n",
    "\n",
    "nb_healthy = 50     #defines the number of healthy images to be downloaded and loaded\n",
    "nb_disease = 50     #defines the number of diseased images to be downloaded and loaded\n",
    "\n",
    "if os.path.exists(os.path.join(LOCAL_DATA_PATH, \"dataset_for_model_1\")) == False:\n",
    "    get_simple_data(nb_healthy = nb_healthy, nb_disease = nb_disease)\n",
    "    X, y = load_simple_data(LOCAL_DATA_PATH, nb_healthy = nb_healthy, nb_disease = nb_disease)\n",
    "else:\n",
    "    X, y = load_simple_data(LOCAL_DATA_PATH, nb_healthy = nb_healthy, nb_disease = nb_disease)"
   ]
  },
  {
   "cell_type": "code",
   "execution_count": 15,
   "metadata": {},
   "outputs": [],
   "source": [
    "# split data in test and train and preprocess data\n",
    "ratio = int(X.shape[0]*0.8)\n",
    "\n",
    "X_train_processed = X[:ratio]/ 255.\n",
    "X_test_processed = X[ratio]/ 255.\n",
    "\n",
    "y_train = X[:ratio]\n",
    "y_test = X[ratio:]"
   ]
  },
  {
   "cell_type": "code",
   "execution_count": 16,
   "metadata": {},
   "outputs": [
    {
     "data": {
      "text/plain": [
       "(80, 256, 256, 3)"
      ]
     },
     "execution_count": 16,
     "metadata": {},
     "output_type": "execute_result"
    }
   ],
   "source": [
    "X_train_processed.shape"
   ]
  },
  {
   "cell_type": "markdown",
   "metadata": {},
   "source": [
    "# CNN baseline model"
   ]
  },
  {
   "cell_type": "code",
   "execution_count": 17,
   "metadata": {},
   "outputs": [],
   "source": [
    "# Initialize model Baseline for a CNN model\n",
    "\n",
    "def initialize_baseline_model():\n",
    "      '''instanciate and return the CNN architecture'''\n",
    "      model = models.Sequential()\n",
    "      model.add(layers.Rescaling(1./255, input_shape=(256,256,3)))\n",
    "\n",
    "      model.add(layers.Conv2D(16, kernel_size=(6, 6), activation='relu'))\n",
    "      model.add(layers.MaxPool2D(pool_size=(3,3)))\n",
    "      model.add(layers.Conv2D(16, kernel_size=(3, 3), activation='relu'))\n",
    "      model.add(layers.MaxPool2D(pool_size=(2,2)))\n",
    "      model.add(layers.Conv2D(64, kernel_size=(3, 3), activation='relu'))\n",
    "      model.add(layers.MaxPool2D(pool_size=(2,2)))\n",
    "      model.add(layers.Flatten())\n",
    "      model.add(layers.Dense(32, activation='relu'))\n",
    "      model.add(layers.Dense(1, activation='sigmoid'))\n",
    "\n",
    "      return model"
   ]
  },
  {
   "cell_type": "code",
   "execution_count": 18,
   "metadata": {},
   "outputs": [
    {
     "name": "stdout",
     "output_type": "stream",
     "text": [
      "Epoch 1/500\n"
     ]
    },
    {
     "name": "stderr",
     "output_type": "stream",
     "text": [
      "2024-06-05 12:18:12.524678: W tensorflow/core/platform/profile_utils/cpu_utils.cc:128] Failed to get CPU frequency: 0 Hz\n"
     ]
    },
    {
     "ename": "ValueError",
     "evalue": "in user code:\n\n    File \"/Users/ariannamenghini/.pyenv/versions/3.10.6/envs/lewagon/lib/python3.10/site-packages/keras/engine/training.py\", line 1160, in train_function  *\n        return step_function(self, iterator)\n    File \"/Users/ariannamenghini/.pyenv/versions/3.10.6/envs/lewagon/lib/python3.10/site-packages/keras/engine/training.py\", line 1146, in step_function  **\n        outputs = model.distribute_strategy.run(run_step, args=(data,))\n    File \"/Users/ariannamenghini/.pyenv/versions/3.10.6/envs/lewagon/lib/python3.10/site-packages/keras/engine/training.py\", line 1135, in run_step  **\n        outputs = model.train_step(data)\n    File \"/Users/ariannamenghini/.pyenv/versions/3.10.6/envs/lewagon/lib/python3.10/site-packages/keras/engine/training.py\", line 994, in train_step\n        loss = self.compute_loss(x, y, y_pred, sample_weight)\n    File \"/Users/ariannamenghini/.pyenv/versions/3.10.6/envs/lewagon/lib/python3.10/site-packages/keras/engine/training.py\", line 1052, in compute_loss\n        return self.compiled_loss(\n    File \"/Users/ariannamenghini/.pyenv/versions/3.10.6/envs/lewagon/lib/python3.10/site-packages/keras/engine/compile_utils.py\", line 265, in __call__\n        loss_value = loss_obj(y_t, y_p, sample_weight=sw)\n    File \"/Users/ariannamenghini/.pyenv/versions/3.10.6/envs/lewagon/lib/python3.10/site-packages/keras/losses.py\", line 152, in __call__\n        losses = call_fn(y_true, y_pred)\n    File \"/Users/ariannamenghini/.pyenv/versions/3.10.6/envs/lewagon/lib/python3.10/site-packages/keras/losses.py\", line 272, in call  **\n        return ag_fn(y_true, y_pred, **self._fn_kwargs)\n    File \"/Users/ariannamenghini/.pyenv/versions/3.10.6/envs/lewagon/lib/python3.10/site-packages/keras/losses.py\", line 2162, in binary_crossentropy\n        backend.binary_crossentropy(y_true, y_pred, from_logits=from_logits),\n    File \"/Users/ariannamenghini/.pyenv/versions/3.10.6/envs/lewagon/lib/python3.10/site-packages/keras/backend.py\", line 5677, in binary_crossentropy\n        return tf.nn.sigmoid_cross_entropy_with_logits(\n\n    ValueError: `logits` and `labels` must have the same shape, received ((32, 1) vs (32, 256, 256, 3)).\n",
     "output_type": "error",
     "traceback": [
      "\u001b[0;31m---------------------------------------------------------------------------\u001b[0m",
      "\u001b[0;31mValueError\u001b[0m                                Traceback (most recent call last)",
      "Cell \u001b[0;32mIn [18], line 5\u001b[0m\n\u001b[1;32m      2\u001b[0m es \u001b[38;5;241m=\u001b[39m EarlyStopping(patience \u001b[38;5;241m=\u001b[39m \u001b[38;5;241m10\u001b[39m)\n\u001b[1;32m      3\u001b[0m baseline_model \u001b[38;5;241m=\u001b[39m compile_model(initialize_baseline_model())\n\u001b[0;32m----> 5\u001b[0m history_baseline \u001b[38;5;241m=\u001b[39m \u001b[43mbaseline_model\u001b[49m\u001b[38;5;241;43m.\u001b[39;49m\u001b[43mfit\u001b[49m\u001b[43m(\u001b[49m\n\u001b[1;32m      6\u001b[0m \u001b[43m  \u001b[49m\u001b[43mX_train_processed\u001b[49m\u001b[43m,\u001b[49m\n\u001b[1;32m      7\u001b[0m \u001b[43m  \u001b[49m\u001b[43my_train\u001b[49m\u001b[43m,\u001b[49m\n\u001b[1;32m      8\u001b[0m \u001b[43m  \u001b[49m\u001b[43mvalidation_split\u001b[49m\u001b[43m \u001b[49m\u001b[38;5;241;43m=\u001b[39;49m\u001b[43m \u001b[49m\u001b[38;5;241;43m0.2\u001b[39;49m\u001b[43m,\u001b[49m\n\u001b[1;32m      9\u001b[0m \u001b[43m  \u001b[49m\u001b[43mepochs\u001b[49m\u001b[43m \u001b[49m\u001b[38;5;241;43m=\u001b[39;49m\u001b[43m \u001b[49m\u001b[38;5;241;43m500\u001b[39;49m\u001b[43m,\u001b[49m\n\u001b[1;32m     10\u001b[0m \u001b[43m  \u001b[49m\u001b[43mbatch_size\u001b[49m\u001b[43m \u001b[49m\u001b[38;5;241;43m=\u001b[39;49m\u001b[43m \u001b[49m\u001b[38;5;241;43m32\u001b[39;49m\u001b[43m,\u001b[49m\n\u001b[1;32m     11\u001b[0m \u001b[43m  \u001b[49m\u001b[43mverbose\u001b[49m\u001b[43m \u001b[49m\u001b[38;5;241;43m=\u001b[39;49m\u001b[43m \u001b[49m\u001b[38;5;241;43m1\u001b[39;49m\u001b[43m,\u001b[49m\n\u001b[1;32m     12\u001b[0m \u001b[43m  \u001b[49m\u001b[43mcallbacks\u001b[49m\u001b[43m \u001b[49m\u001b[38;5;241;43m=\u001b[39;49m\u001b[43m \u001b[49m\u001b[43m[\u001b[49m\u001b[43mes\u001b[49m\u001b[43m]\u001b[49m\n\u001b[1;32m     13\u001b[0m \u001b[43m)\u001b[49m\n",
      "File \u001b[0;32m~/.pyenv/versions/3.10.6/envs/lewagon/lib/python3.10/site-packages/keras/utils/traceback_utils.py:70\u001b[0m, in \u001b[0;36mfilter_traceback.<locals>.error_handler\u001b[0;34m(*args, **kwargs)\u001b[0m\n\u001b[1;32m     67\u001b[0m     filtered_tb \u001b[38;5;241m=\u001b[39m _process_traceback_frames(e\u001b[38;5;241m.\u001b[39m__traceback__)\n\u001b[1;32m     68\u001b[0m     \u001b[38;5;66;03m# To get the full stack trace, call:\u001b[39;00m\n\u001b[1;32m     69\u001b[0m     \u001b[38;5;66;03m# `tf.debugging.disable_traceback_filtering()`\u001b[39;00m\n\u001b[0;32m---> 70\u001b[0m     \u001b[38;5;28;01mraise\u001b[39;00m e\u001b[38;5;241m.\u001b[39mwith_traceback(filtered_tb) \u001b[38;5;28;01mfrom\u001b[39;00m \u001b[38;5;28mNone\u001b[39m\n\u001b[1;32m     71\u001b[0m \u001b[38;5;28;01mfinally\u001b[39;00m:\n\u001b[1;32m     72\u001b[0m     \u001b[38;5;28;01mdel\u001b[39;00m filtered_tb\n",
      "File \u001b[0;32m/var/folders/c5/1bg5gwgj5mq8pdgwbm7b7cfh0000gn/T/__autograph_generated_file9hzr_n1t.py:15\u001b[0m, in \u001b[0;36mouter_factory.<locals>.inner_factory.<locals>.tf__train_function\u001b[0;34m(iterator)\u001b[0m\n\u001b[1;32m     13\u001b[0m \u001b[38;5;28;01mtry\u001b[39;00m:\n\u001b[1;32m     14\u001b[0m     do_return \u001b[38;5;241m=\u001b[39m \u001b[38;5;28;01mTrue\u001b[39;00m\n\u001b[0;32m---> 15\u001b[0m     retval_ \u001b[38;5;241m=\u001b[39m ag__\u001b[38;5;241m.\u001b[39mconverted_call(ag__\u001b[38;5;241m.\u001b[39mld(step_function), (ag__\u001b[38;5;241m.\u001b[39mld(\u001b[38;5;28mself\u001b[39m), ag__\u001b[38;5;241m.\u001b[39mld(iterator)), \u001b[38;5;28;01mNone\u001b[39;00m, fscope)\n\u001b[1;32m     16\u001b[0m \u001b[38;5;28;01mexcept\u001b[39;00m:\n\u001b[1;32m     17\u001b[0m     do_return \u001b[38;5;241m=\u001b[39m \u001b[38;5;28;01mFalse\u001b[39;00m\n",
      "\u001b[0;31mValueError\u001b[0m: in user code:\n\n    File \"/Users/ariannamenghini/.pyenv/versions/3.10.6/envs/lewagon/lib/python3.10/site-packages/keras/engine/training.py\", line 1160, in train_function  *\n        return step_function(self, iterator)\n    File \"/Users/ariannamenghini/.pyenv/versions/3.10.6/envs/lewagon/lib/python3.10/site-packages/keras/engine/training.py\", line 1146, in step_function  **\n        outputs = model.distribute_strategy.run(run_step, args=(data,))\n    File \"/Users/ariannamenghini/.pyenv/versions/3.10.6/envs/lewagon/lib/python3.10/site-packages/keras/engine/training.py\", line 1135, in run_step  **\n        outputs = model.train_step(data)\n    File \"/Users/ariannamenghini/.pyenv/versions/3.10.6/envs/lewagon/lib/python3.10/site-packages/keras/engine/training.py\", line 994, in train_step\n        loss = self.compute_loss(x, y, y_pred, sample_weight)\n    File \"/Users/ariannamenghini/.pyenv/versions/3.10.6/envs/lewagon/lib/python3.10/site-packages/keras/engine/training.py\", line 1052, in compute_loss\n        return self.compiled_loss(\n    File \"/Users/ariannamenghini/.pyenv/versions/3.10.6/envs/lewagon/lib/python3.10/site-packages/keras/engine/compile_utils.py\", line 265, in __call__\n        loss_value = loss_obj(y_t, y_p, sample_weight=sw)\n    File \"/Users/ariannamenghini/.pyenv/versions/3.10.6/envs/lewagon/lib/python3.10/site-packages/keras/losses.py\", line 152, in __call__\n        losses = call_fn(y_true, y_pred)\n    File \"/Users/ariannamenghini/.pyenv/versions/3.10.6/envs/lewagon/lib/python3.10/site-packages/keras/losses.py\", line 272, in call  **\n        return ag_fn(y_true, y_pred, **self._fn_kwargs)\n    File \"/Users/ariannamenghini/.pyenv/versions/3.10.6/envs/lewagon/lib/python3.10/site-packages/keras/losses.py\", line 2162, in binary_crossentropy\n        backend.binary_crossentropy(y_true, y_pred, from_logits=from_logits),\n    File \"/Users/ariannamenghini/.pyenv/versions/3.10.6/envs/lewagon/lib/python3.10/site-packages/keras/backend.py\", line 5677, in binary_crossentropy\n        return tf.nn.sigmoid_cross_entropy_with_logits(\n\n    ValueError: `logits` and `labels` must have the same shape, received ((32, 1) vs (32, 256, 256, 3)).\n"
     ]
    }
   ],
   "source": [
    "# Fit the baseline model on the train data\n",
    "es = EarlyStopping(patience = 10)\n",
    "baseline_model = compile_model(initialize_baseline_model())\n",
    "\n",
    "history_baseline = baseline_model.fit(\n",
    "  X_train_processed,\n",
    "  y_train,\n",
    "  validation_split = 0.2,\n",
    "  epochs = 500,\n",
    "  batch_size = 32,\n",
    "  verbose = 1,\n",
    "  callbacks = [es]\n",
    ")"
   ]
  },
  {
   "cell_type": "code",
   "execution_count": null,
   "metadata": {},
   "outputs": [],
   "source": [
    "# Plot Loss and accuracy of the basline model\n",
    "plot_history(history_baseline, title='Baseline', axs=None, exp_name=\"\")"
   ]
  },
  {
   "cell_type": "markdown",
   "metadata": {},
   "source": [
    "# VGG16 model"
   ]
  },
  {
   "cell_type": "code",
   "execution_count": null,
   "metadata": {},
   "outputs": [],
   "source": [
    "# Loads the VGG16 model\n",
    "def load_VGG16_model():\n",
    "    model = VGG16(weights=\"imagenet\", include_top=False, input_shape=X_train_processed.shape[1:4].shape)\n",
    "    return model"
   ]
  },
  {
   "cell_type": "code",
   "execution_count": null,
   "metadata": {},
   "outputs": [],
   "source": [
    "# Fit the VGG16 model on the train data\n",
    "es = EarlyStopping(patience = 10)\n",
    "VGG16_model = build_model(load_VGG16_model())\n",
    "\n",
    "history_VGG16 = VGG16_model.fit(\n",
    "  X_train_processed,\n",
    "  y_train,\n",
    "  validation_split = 0.2,\n",
    "  epochs = 500,\n",
    "  batch_size = 32,\n",
    "  verbose = 1,\n",
    "  callbacks = [es]\n",
    ")"
   ]
  },
  {
   "cell_type": "code",
   "execution_count": null,
   "metadata": {},
   "outputs": [],
   "source": [
    "# Plot Loss and accuracy of the VGG16 model\n",
    "plot_history(history_VGG16, title='VGG16', axs=None, exp_name=\"\")"
   ]
  },
  {
   "cell_type": "markdown",
   "metadata": {},
   "source": [
    "# ResNet50"
   ]
  },
  {
   "cell_type": "code",
   "execution_count": null,
   "metadata": {},
   "outputs": [],
   "source": [
    "# Loads the ResNet50 model\n",
    "def load_ResNet50_model():\n",
    "    model = ResNet50(weights=\"imagenet\", include_top=False, input_shape=X_train_processed.shape[1:4].shape)\n",
    "    return model"
   ]
  },
  {
   "cell_type": "code",
   "execution_count": null,
   "metadata": {},
   "outputs": [],
   "source": [
    "# Fit the ResNet50 model on the train data\n",
    "es = EarlyStopping(patience = 10)\n",
    "ResNet50_model = build_model(load_ResNet50_model())\n",
    "\n",
    "history_ResNet50 = ResNet50_model.fit(\n",
    "  X_train_processed,\n",
    "  y_train,\n",
    "  validation_split = 0.2,\n",
    "  epochs = 500,\n",
    "  batch_size = 32,\n",
    "  verbose = 1,\n",
    "  callbacks = [es]\n",
    ")"
   ]
  },
  {
   "cell_type": "code",
   "execution_count": null,
   "metadata": {},
   "outputs": [],
   "source": [
    "# Plot Loss and accuracy of the ResNet50 model\n",
    "plot_history(history_ResNet50, title='ResNet50', axs=None, exp_name=\"\")"
   ]
  },
  {
   "cell_type": "markdown",
   "metadata": {},
   "source": [
    "# EfficientNetB0"
   ]
  },
  {
   "cell_type": "code",
   "execution_count": null,
   "metadata": {},
   "outputs": [],
   "source": [
    "# Loads the EfficientNetB0 model\n",
    "def load_EfficientNetB0_model():\n",
    "    model = EfficientNetB0(weights=\"imagenet\", include_top=False, input_shape=X_train_processed.shape[1:4].shape)\n",
    "    return model"
   ]
  },
  {
   "cell_type": "code",
   "execution_count": null,
   "metadata": {},
   "outputs": [],
   "source": [
    "# Fit the EfficientNetB0 model on the train data\n",
    "es = EarlyStopping(patience = 10)\n",
    "EfficientNetB0_model = build_model(load_EfficientNetB0_model())\n",
    "\n",
    "history_EfficientNetB0 = EfficientNetB0_model.fit(\n",
    "  X_train_processed,\n",
    "  y_train,\n",
    "  validation_split = 0.2,\n",
    "  epochs = 500,\n",
    "  batch_size = 32,\n",
    "  verbose = 1,\n",
    "  callbacks = [es]\n",
    ")"
   ]
  },
  {
   "cell_type": "code",
   "execution_count": null,
   "metadata": {},
   "outputs": [],
   "source": [
    "# Plot Loss and accuracy of the EfficientNetB0 model\n",
    "plot_history(history_EfficientNetB0, title='EfficientNetB0', axs=None, exp_name=\"\")"
   ]
  },
  {
   "cell_type": "markdown",
   "metadata": {},
   "source": [
    "# Data augmentation"
   ]
  },
  {
   "cell_type": "code",
   "execution_count": null,
   "metadata": {},
   "outputs": [],
   "source": [
    "# Add Data Augmentation if your model is overfitting\n",
    "datagen = ImageDataGenerator(\n",
    "    featurewise_center = False,\n",
    "    featurewise_std_normalization = False,\n",
    "    rotation_range = 20,\n",
    "    width_shift_range = 0.2,\n",
    "    height_shift_range = 0.2,\n",
    "    horizontal_flip = True,\n",
    "    brightness_range = (0.5, 1.),\n",
    "    zoom_range = (0.3, 1.5))\n",
    "\n",
    "\n",
    "# compute quantities required for featurewise normalization\n",
    "# (std, mean, and principal components if ZCA whitening is applied)\n",
    "datagen.fit(X_train_processed)\n",
    "\n",
    "model_data_aug = build_model()\n",
    "\n",
    "train_flow = datagen.flow(X_train_processed, y_train, batch_size=16)\n",
    "val_flow = datagen.flow(X_val_preprocessed, y_val, batch_size=16)\n",
    "\n",
    "es = EarlyStopping(monitor = 'val_accuracy',\n",
    "                   mode = 'max',\n",
    "                   patience = 5,\n",
    "                   verbose = 1,\n",
    "                   restore_best_weights = True)\n",
    "\n",
    "history_data_aug = model_data_aug.fit(train_flow,\n",
    "                                      validation_data = val_flow,\n",
    "                                      epochs = 50,\n",
    "                                      callbacks = [es])"
   ]
  }
 ],
 "metadata": {
  "kernelspec": {
   "display_name": "Python 3 (ipykernel)",
   "language": "python",
   "name": "python3"
  },
  "language_info": {
   "codemirror_mode": {
    "name": "ipython",
    "version": 3
   },
   "file_extension": ".py",
   "mimetype": "text/x-python",
   "name": "python",
   "nbconvert_exporter": "python",
   "pygments_lexer": "ipython3",
   "version": "3.10.6"
  },
  "toc": {
   "base_numbering": 1,
   "nav_menu": {},
   "number_sections": true,
   "sideBar": true,
   "skip_h1_title": false,
   "title_cell": "Table of Contents",
   "title_sidebar": "Contents",
   "toc_cell": false,
   "toc_position": {},
   "toc_section_display": true,
   "toc_window_display": false
  }
 },
 "nbformat": 4,
 "nbformat_minor": 2
}
