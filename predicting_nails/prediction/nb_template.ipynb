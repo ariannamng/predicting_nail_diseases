{
 "cells": [
  {
   "cell_type": "code",
   "execution_count": 2,
   "metadata": {},
   "outputs": [],
   "source": [
    "# Imports\n",
    "import os\n",
    "from predicting_nails.params import *\n",
    "from predicting_nails.prediction.get_data import get_simple_data, load_simple_data\n",
    "from PIL import Image"
   ]
  },
  {
   "cell_type": "markdown",
   "metadata": {},
   "source": [
    "! This is a template for for a notebook to get and load the data for the simple model. "
   ]
  },
  {
   "cell_type": "code",
   "execution_count": 6,
   "metadata": {},
   "outputs": [],
   "source": [
    "# Get resized (224,224,3) and labeled (0,1) data from your local directory for the simple model\n",
    "\n",
    "nb_healthy = 50     #defines the number of healthy images to be downloaded and loaded\n",
    "nb_disease = 50     #defines the number of diseased images to be downloaded and loaded\n",
    "\n",
    "if os.path.exists(os.path.join(LOCAL_DATA_PATH, \"dataset_for_model_1\")) == False:\n",
    "    get_simple_data(nb_healthy = nb_healthy, nb_disease = nb_disease)\n",
    "    X, y = load_simple_data(LOCAL_DATA_PATH, nb_healthy = nb_healthy, nb_disease = nb_disease)\n",
    "else:\n",
    "    X, y = load_simple_data(LOCAL_DATA_PATH, nb_healthy = nb_healthy, nb_disease = nb_disease)"
   ]
  },
  {
   "cell_type": "code",
   "execution_count": null,
   "metadata": {},
   "outputs": [],
   "source": [
    "#YOUR CODE HERE"
   ]
  }
 ],
 "metadata": {
  "kernelspec": {
   "display_name": "predicting_nail_diseases",
   "language": "python",
   "name": "python3"
  },
  "language_info": {
   "name": "python",
   "version": "3.10.6"
  }
 },
 "nbformat": 4,
 "nbformat_minor": 2
}
