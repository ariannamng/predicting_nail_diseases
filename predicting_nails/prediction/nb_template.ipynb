{
 "cells": [
  {
   "cell_type": "code",
   "execution_count": null,
   "metadata": {},
   "outputs": [],
   "source": [
    "# Imports\n",
    "import os\n",
    "from predicting_nails.params import *\n",
    "from predicting_nails.prediction.get_data import *\n",
    "from PIL import Image"
   ]
  },
  {
   "cell_type": "markdown",
   "metadata": {},
   "source": [
    "# GET THE DATA FIRST\n",
    "to get the data run the get_data.py from your terminal. Make sure you are in \"prediction\" in your terminal:\n",
    "\n",
    "```python\n",
    "python get_data.py\n",
    "```\n",
    "\n",
    "You can check in the raw_data folder if the images appeard."
   ]
  },
  {
   "cell_type": "code",
   "execution_count": null,
   "metadata": {},
   "outputs": [],
   "source": [
    "# Get resized and labeled data from your local directory\n",
    "if os.path.exists(LOCAL_DATA_PATH):\n",
    "    X, y = load_simple_data(LOCAL_DATA_PATH)\n"
   ]
  },
  {
   "cell_type": "code",
   "execution_count": null,
   "metadata": {},
   "outputs": [],
   "source": [
    "#YOUR CODE HERE"
   ]
  }
 ],
 "metadata": {
  "kernelspec": {
   "display_name": "predicting_nail_diseases",
   "language": "python",
   "name": "python3"
  },
  "language_info": {
   "name": "python",
   "version": "3.10.6"
  }
 },
 "nbformat": 4,
 "nbformat_minor": 2
}
