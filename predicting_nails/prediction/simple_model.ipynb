{
 "cells": [
  {
   "cell_type": "code",
   "execution_count": 1,
   "metadata": {},
   "outputs": [],
   "source": [
    "\n",
    "# Imports\n",
    "import os\n",
    "from predicting_nails.params import *\n",
    "import matplotlib.pyplot as plt\n",
    "#from tensorflow.keras import layers, models, Sequential\n",
    "#from tensorflow.keras.callbacks import EarlyStopping\n",
    "#from tensorflow.keras.applications.vgg16 import VGG16\n",
    "#from tensorflow.keras.applications import ResNet50, EfficientNetB0\n",
    "#from keras.preprocessing.image import ImageDataGenerator\n",
    "from predicting_nails.prediction.get_data import *\n",
    "from PIL import Image"
   ]
  },
  {
   "cell_type": "code",
   "execution_count": null,
   "metadata": {},
   "outputs": [],
   "source": [
    "# Plots Loss and accuracy of the train veresus the validation data\n",
    "def plot_history(history, title='', axs=None, exp_name=\"\"):\n",
    "    if axs is not None:\n",
    "        ax1, ax2 = axs\n",
    "    else:\n",
    "        f, (ax1, ax2) = plt.subplots(1, 2, figsize=(12, 4))\n",
    "\n",
    "    if len(exp_name) > 0 and exp_name[0] != '_':\n",
    "        exp_name = '_' + exp_name\n",
    "    ax1.plot(history.history['loss'], label = 'train' + exp_name)\n",
    "    ax1.plot(history.history['val_loss'], label = 'val' + exp_name)\n",
    "    ax1.set_ylim(0., 2.2)\n",
    "    ax1.set_title('loss')\n",
    "    ax1.legend()\n",
    "\n",
    "    ax2.plot(history.history['accuracy'], label='train accuracy'  + exp_name)\n",
    "    ax2.plot(history.history['val_accuracy'], label='val accuracy'  + exp_name)\n",
    "    ax2.set_ylim(0.25, 1.)\n",
    "    ax2.set_title('Accuracy')\n",
    "    ax2.legend()\n",
    "    return (ax1, ax2)"
   ]
  },
  {
   "cell_type": "code",
   "execution_count": null,
   "metadata": {},
   "outputs": [],
   "source": [
    "# Initialize model Baseline for a CNN model\n",
    "\n",
    "def initialize_baseline_model():\n",
    "      '''instanciate and return the CNN architecture'''\n",
    "      model = models.Sequential()\n",
    "\n",
    "      model.add(layers.Conv2D(32, kernel_size=(3, 3), activation='relu', input_shape=X_train_processed.shape[1:4]))\n",
    "      model.add(layers.MaxPool2D(pool_size=(5,5)))\n",
    "      model.add(layers.Conv2D(16, kernel_size=(3, 3), activation='relu'))\n",
    "      model.add(layers.MaxPool2D(pool_size=(2,2)))\n",
    "      model.add(layers.Conv2D(32, kernel_size=(3, 3), activation='relu'))\n",
    "      model.add(layers.MaxPool2D(pool_size=(2,2)))\n",
    "      model.add(layers.Flatten())\n",
    "      model.add(layers.Dense(32, activation='relu'))\n",
    "      model.add(layers.Dense(1, activation='sigmoid'))\n",
    "\n",
    "      return model"
   ]
  },
  {
   "cell_type": "code",
   "execution_count": null,
   "metadata": {},
   "outputs": [],
   "source": [
    "# Compile the model as a binary classification model\n",
    "\n",
    "def compile_model(model):\n",
    "    '''return a compiled model for the baseline'''\n",
    "    model.compile(loss='binary_crossentropy',\n",
    "              optimizer='adam',\n",
    "              metrics=['accuracy'])\n",
    "    return model"
   ]
  },
  {
   "cell_type": "code",
   "execution_count": null,
   "metadata": {},
   "outputs": [],
   "source": [
    "# Set the first layers to be untrainable\n",
    "\n",
    "def set_nontrainable_layers(model):\n",
    "    model.trainable = False\n",
    "    return model"
   ]
  },
  {
   "cell_type": "code",
   "execution_count": null,
   "metadata": {},
   "outputs": [],
   "source": [
    "# Initialize and compile a model for a transfer learning\n",
    "\n",
    "def build_model(base_model):\n",
    "      '''instanciate and return the CNN architecture'''\n",
    "      base_model = set_nontrainable_layers(base_model)\n",
    "      flattening_layer = layers.Flatten()\n",
    "      dense_layer = layers.Dense(500, activation='relu')\n",
    "      prediction_layer = layers.Dense(1, activation='sigmoid')\n",
    "\n",
    "      model = Sequential([\n",
    "      base_model,\n",
    "      flattening_layer,\n",
    "      dense_layer,\n",
    "      prediction_layer\n",
    "      ])\n",
    "      return compile_model(model)"
   ]
  },
  {
   "cell_type": "code",
   "execution_count": 2,
   "metadata": {},
   "outputs": [],
   "source": [
    "# Get data\n",
    "if os.path.exists(LOCAL_DATA_PATH):\n",
    "    X, y = load_simple_data(LOCAL_DATA_PATH)\n"
   ]
  },
  {
   "cell_type": "code",
   "execution_count": null,
   "metadata": {},
   "outputs": [],
   "source": [
    "# split data in test and train and preprocess data\n",
    "X_train_processed = 0\n",
    "X_test_processed = 0"
   ]
  },
  {
   "cell_type": "markdown",
   "metadata": {},
   "source": [
    "# CNN baseline model"
   ]
  },
  {
   "cell_type": "code",
   "execution_count": null,
   "metadata": {},
   "outputs": [],
   "source": [
    "# Fit the baseline model on the train data\n",
    "es = EarlyStopping(patience = 10)\n",
    "baseline_model = compile_model(initialize_baseline_model())\n",
    "\n",
    "history_baseline = baseline_model.fit(\n",
    "  X_train_processed,\n",
    "  y_train,\n",
    "  validation_split = 0.2,\n",
    "  epochs = 500,\n",
    "  batch_size = 32,\n",
    "  verbose = 1,\n",
    "  callbacks = [es]\n",
    ")"
   ]
  },
  {
   "cell_type": "code",
   "execution_count": null,
   "metadata": {},
   "outputs": [],
   "source": [
    "# Plot Loss and accuracy of the basline model\n",
    "plot_history(history_baseline, title='Baseline', axs=None, exp_name=\"\")"
   ]
  },
  {
   "cell_type": "markdown",
   "metadata": {},
   "source": [
    "# VGG16 model"
   ]
  },
  {
   "cell_type": "code",
   "execution_count": null,
   "metadata": {},
   "outputs": [],
   "source": [
    "# Loads the VGG16 model\n",
    "def load_VGG16_model():\n",
    "    model = VGG16(weights=\"imagenet\", include_top=False, input_shape=X_train_processed.shape[1:4].shape)\n",
    "    return model"
   ]
  },
  {
   "cell_type": "code",
   "execution_count": null,
   "metadata": {},
   "outputs": [],
   "source": [
    "# Fit the VGG16 model on the train data\n",
    "es = EarlyStopping(patience = 10)\n",
    "VGG16_model = build_model(load_VGG16_model())\n",
    "\n",
    "history_VGG16 = VGG16_model.fit(\n",
    "  X_train_processed,\n",
    "  y_train,\n",
    "  validation_split = 0.2,\n",
    "  epochs = 500,\n",
    "  batch_size = 32,\n",
    "  verbose = 1,\n",
    "  callbacks = [es]\n",
    ")"
   ]
  },
  {
   "cell_type": "code",
   "execution_count": null,
   "metadata": {},
   "outputs": [],
   "source": [
    "# Plot Loss and accuracy of the VGG16 model\n",
    "plot_history(history_VGG16, title='VGG16', axs=None, exp_name=\"\")"
   ]
  },
  {
   "cell_type": "markdown",
   "metadata": {},
   "source": [
    "# ResNet50"
   ]
  },
  {
   "cell_type": "code",
   "execution_count": null,
   "metadata": {},
   "outputs": [],
   "source": [
    "# Loads the ResNet50 model\n",
    "def load_ResNet50_model():\n",
    "    model = ResNet50(weights=\"imagenet\", include_top=False, input_shape=X_train_processed.shape[1:4].shape)\n",
    "    return model"
   ]
  },
  {
   "cell_type": "code",
   "execution_count": null,
   "metadata": {},
   "outputs": [],
   "source": [
    "# Fit the ResNet50 model on the train data\n",
    "es = EarlyStopping(patience = 10)\n",
    "ResNet50_model = build_model(load_ResNet50_model())\n",
    "\n",
    "history_ResNet50 = ResNet50_model.fit(\n",
    "  X_train_processed,\n",
    "  y_train,\n",
    "  validation_split = 0.2,\n",
    "  epochs = 500,\n",
    "  batch_size = 32,\n",
    "  verbose = 1,\n",
    "  callbacks = [es]\n",
    ")"
   ]
  },
  {
   "cell_type": "code",
   "execution_count": null,
   "metadata": {},
   "outputs": [],
   "source": [
    "# Plot Loss and accuracy of the ResNet50 model\n",
    "plot_history(history_ResNet50, title='ResNet50', axs=None, exp_name=\"\")"
   ]
  },
  {
   "cell_type": "markdown",
   "metadata": {},
   "source": [
    "# EfficientNetB0"
   ]
  },
  {
   "cell_type": "code",
   "execution_count": null,
   "metadata": {},
   "outputs": [],
   "source": [
    "# Loads the EfficientNetB0 model\n",
    "def load_EfficientNetB0_model():\n",
    "    model = EfficientNetB0(weights=\"imagenet\", include_top=False, input_shape=X_train_processed.shape[1:4].shape)\n",
    "    return model"
   ]
  },
  {
   "cell_type": "code",
   "execution_count": null,
   "metadata": {},
   "outputs": [],
   "source": [
    "# Fit the EfficientNetB0 model on the train data\n",
    "es = EarlyStopping(patience = 10)\n",
    "EfficientNetB0_model = build_model(load_EfficientNetB0_model())\n",
    "\n",
    "history_EfficientNetB0 = EfficientNetB0_model.fit(\n",
    "  X_train_processed,\n",
    "  y_train,\n",
    "  validation_split = 0.2,\n",
    "  epochs = 500,\n",
    "  batch_size = 32,\n",
    "  verbose = 1,\n",
    "  callbacks = [es]\n",
    ")"
   ]
  },
  {
   "cell_type": "code",
   "execution_count": null,
   "metadata": {},
   "outputs": [],
   "source": [
    "# Plot Loss and accuracy of the EfficientNetB0 model\n",
    "plot_history(history_EfficientNetB0, title='EfficientNetB0', axs=None, exp_name=\"\")"
   ]
  },
  {
   "cell_type": "markdown",
   "metadata": {},
   "source": [
    "# Data augmentation"
   ]
  },
  {
   "cell_type": "code",
   "execution_count": null,
   "metadata": {},
   "outputs": [],
   "source": [
    "# Add Data Augmentation if your model is overfitting\n",
    "datagen = ImageDataGenerator(\n",
    "    featurewise_center = False,\n",
    "    featurewise_std_normalization = False,\n",
    "    rotation_range = 20,\n",
    "    width_shift_range = 0.2,\n",
    "    height_shift_range = 0.2,\n",
    "    horizontal_flip = True,\n",
    "    brightness_range = (0.5, 1.),\n",
    "    zoom_range = (0.3, 1.5))\n",
    "\n",
    "\n",
    "# compute quantities required for featurewise normalization\n",
    "# (std, mean, and principal components if ZCA whitening is applied)\n",
    "datagen.fit(X_train_processed)\n",
    "\n",
    "model_data_aug = build_model()\n",
    "\n",
    "train_flow = datagen.flow(X_train_processed, y_train, batch_size=16)\n",
    "val_flow = datagen.flow(X_val_preprocessed, y_val, batch_size=16)\n",
    "\n",
    "es = EarlyStopping(monitor = 'val_accuracy',\n",
    "                   mode = 'max',\n",
    "                   patience = 5,\n",
    "                   verbose = 1,\n",
    "                   restore_best_weights = True)\n",
    "\n",
    "history_data_aug = model_data_aug.fit(train_flow,\n",
    "                                      validation_data = val_flow,\n",
    "                                      epochs = 50,\n",
    "                                      callbacks = [es])"
   ]
  }
 ],
 "metadata": {
  "kernelspec": {
   "display_name": "predicting_nail_diseases",
   "language": "python",
   "name": "python3"
  },
  "language_info": {
   "codemirror_mode": {
    "name": "ipython",
    "version": 3
   },
   "file_extension": ".py",
   "mimetype": "text/x-python",
   "name": "python",
   "nbconvert_exporter": "python",
   "pygments_lexer": "ipython3",
   "version": "3.10.6"
  }
 },
 "nbformat": 4,
 "nbformat_minor": 2
}
